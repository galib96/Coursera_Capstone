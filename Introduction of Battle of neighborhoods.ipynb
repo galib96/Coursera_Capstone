{
 "cells": [
  {
   "cell_type": "markdown",
   "metadata": {},
   "source": [
    "# Battle of Neighborhoods: Toronto vs New York"
   ]
  },
  {
   "cell_type": "markdown",
   "metadata": {},
   "source": [
    "## Introduction"
   ]
  },
  {
   "cell_type": "markdown",
   "metadata": {},
   "source": [
    "A New York based B2B company who does business with various venues to supply accessories across big cities wants to launch its business in Toronto. They need to know:\n",
    "\n",
    "- The type of venue distribution across Toronto to create cluster of Neighborhoods to identify market locations so that delivary system can be modified.\n",
    "- Overall financial condition distribution of the people there to predict the buying power of the future cutomers.\n",
    "\n",
    "They want to see if their existing business area, New York, match with Toronto or if they will require some changes in their plan.\n",
    "\n",
    "\n",
    "At first, various location data will be collected and cleaned as necessary. Then venues data will be imported and cluster analysis will be used to making cluster of Neighborhoods of two cities and compare them with each other. Then, the income and population densities across different boroughs of the cities will be compared."
   ]
  },
  {
   "cell_type": "code",
   "execution_count": null,
   "metadata": {},
   "outputs": [],
   "source": []
  }
 ],
 "metadata": {
  "kernelspec": {
   "display_name": "Python 3",
   "language": "python",
   "name": "python3"
  },
  "language_info": {
   "codemirror_mode": {
    "name": "ipython",
    "version": 3
   },
   "file_extension": ".py",
   "mimetype": "text/x-python",
   "name": "python",
   "nbconvert_exporter": "python",
   "pygments_lexer": "ipython3",
   "version": "3.6.4"
  }
 },
 "nbformat": 4,
 "nbformat_minor": 2
}
