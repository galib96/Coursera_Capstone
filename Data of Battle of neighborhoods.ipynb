{
 "cells": [
  {
   "cell_type": "markdown",
   "metadata": {},
   "source": [
    "# Battle of Neighborhoods: Toronto vs New York"
   ]
  },
  {
   "cell_type": "markdown",
   "metadata": {},
   "source": [
    "## Data"
   ]
  },
  {
   "cell_type": "markdown",
   "metadata": {},
   "source": [
    "Data Required for this project are:\n",
    "\n",
    "\n",
    "**Location Data of Neighborhoods of New York and Toronto**\n",
    "\n",
    "Source: Location data provided by IBM and Wikipedia will be used. The data will be modified and combined as required and then converted into data frame using Python Pandas package. Location data provided by IBM is in json format from where only necessary data such as latitude, longitude, neighborhood etc. will be imported. Wikipedia table which is in html table formal will be imported via wikipedia pakcage of Python.\n",
    "\n",
    "\n",
    "**Venue Data around Neighborhoods of New York and Toronto**\n",
    "\n",
    "Source: Foursquare API will be used to get the nearby venues data. Latitude and Longitude as well as other info such as Radius, Number of Venues etc. will be applied combined with Foursquare Client Id and credentials to import all the venues, their category and location. The imported json file will be converted to data frame using Python Pandas package.\n",
    "\n",
    "\n",
    "**Income and Population Density Data of New York and Toronto**\n",
    "\n",
    "Source: all these will be imported from Wikipedia. They are in raw html format. So, they will be imported by Wikipedia package and converted into data frame using Python Pandas data frame. Then, they will be modified to get the population density and average Income of all the boroughs of New York and Toronto."
   ]
  },
  {
   "cell_type": "code",
   "execution_count": null,
   "metadata": {},
   "outputs": [],
   "source": []
  }
 ],
 "metadata": {
  "kernelspec": {
   "display_name": "Python 3",
   "language": "python",
   "name": "python3"
  },
  "language_info": {
   "codemirror_mode": {
    "name": "ipython",
    "version": 3
   },
   "file_extension": ".py",
   "mimetype": "text/x-python",
   "name": "python",
   "nbconvert_exporter": "python",
   "pygments_lexer": "ipython3",
   "version": "3.6.4"
  }
 },
 "nbformat": 4,
 "nbformat_minor": 2
}
